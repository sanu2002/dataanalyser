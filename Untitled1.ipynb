{
  "nbformat": 4,
  "nbformat_minor": 0,
  "metadata": {
    "colab": {
      "provenance": [],
      "authorship_tag": "ABX9TyMM1F+llimZQbOqwontJ5/7",
      "include_colab_link": true
    },
    "kernelspec": {
      "name": "python3",
      "display_name": "Python 3"
    },
    "language_info": {
      "name": "python"
    }
  },
  "cells": [
    {
      "cell_type": "markdown",
      "metadata": {
        "id": "view-in-github",
        "colab_type": "text"
      },
      "source": [
        "<a href=\"https://colab.research.google.com/github/sanu2002/dataanalyser/blob/main/Untitled1.ipynb\" target=\"_parent\"><img src=\"https://colab.research.google.com/assets/colab-badge.svg\" alt=\"Open In Colab\"/></a>"
      ]
    },
    {
      "cell_type": "markdown",
      "source": [
        "here we will discuss binary serach and linear serch"
      ],
      "metadata": {
        "id": "PZlYHph3n9Xn"
      }
    },
    {
      "cell_type": "code",
      "execution_count": 2,
      "metadata": {
        "colab": {
          "base_uri": "https://localhost:8080/"
        },
        "id": "VHGTmxx1n23H",
        "outputId": "8717ea69-91c4-4bf3-d9e6-6f4bf58e023c"
      },
      "outputs": [
        {
          "output_type": "stream",
          "name": "stdout",
          "text": [
            "index found at: 4\n"
          ]
        }
      ],
      "source": [
        "def fun(list,target):\n",
        "  for i in range(len(list)):\n",
        "    if list[i]==target:\n",
        "      return i\n",
        "\n",
        "  return -1\n",
        "\n",
        "\n",
        "def verify(index):\n",
        "  if index is not None:\n",
        "    print(\"index found at:\",index)\n",
        "\n",
        "  else:\n",
        "       print(\"index doesnot found\")\n",
        "\n",
        "\n",
        "if   __name__=='__main__':\n",
        "      verify(fun([1,2,3,4,5,6,7,8,9],5))"
      ]
    },
    {
      "cell_type": "markdown",
      "source": [
        "this is called linear search and it has a time complexity of O(n) and alos space complexity,space complexity refers for the amount of memory required by that algorithm to solve that problem .as length increses memeory uses also increases.\n"
      ],
      "metadata": {
        "id": "Oh_RfHCKpMYf"
      }
    },
    {
      "cell_type": "markdown",
      "source": [],
      "metadata": {
        "id": "Jiu-8gFApxiH"
      }
    },
    {
      "cell_type": "markdown",
      "source": [
        "here we will discuss binary serch algorithm "
      ],
      "metadata": {
        "id": "IZ0taiDHpziM"
      }
    },
    {
      "cell_type": "code",
      "source": [
        "def fun(lst, target):\n",
        "    first = 0\n",
        "    last = len(lst) - 1\n",
        "\n",
        "    while first <= last:\n",
        "        mid = (first + last) // 2\n",
        "        if lst[mid] == target:\n",
        "            return f\"Target found at index {mid}\"\n",
        "        elif lst[mid] < target:\n",
        "            first = mid + 1\n",
        "        else:\n",
        "            last = mid - 1\n",
        "    return -1\n",
        "\n",
        "\n",
        "def verify(index):\n",
        "    if index != -1:\n",
        "        print(\"Index found at:\", index)\n",
        "    else:\n",
        "        print(\"Index not found\")\n",
        "\n",
        "\n",
        "if __name__ == '__main__':\n",
        "    verify(fun([1, 2, 3, 4, 5, 6, 7, 8, 9], 5))\n",
        "\n",
        "\n"
      ],
      "metadata": {
        "colab": {
          "base_uri": "https://localhost:8080/"
        },
        "id": "SLpGnxc_p55H",
        "outputId": "c2184ceb-f357-4b31-ee7b-27941fc79c52"
      },
      "execution_count": 6,
      "outputs": [
        {
          "output_type": "stream",
          "name": "stdout",
          "text": [
            "Index found at: Target found at index 4\n"
          ]
        }
      ]
    },
    {
      "cell_type": "markdown",
      "source": [
        "this is the binary serach technics for finding the number in list,lets discuss "
      ],
      "metadata": {
        "id": "huPvPQr8rmAV"
      }
    },
    {
      "cell_type": "code",
      "source": [],
      "metadata": {
        "id": "ocZXPD1QsRex"
      },
      "execution_count": null,
      "outputs": []
    },
    {
      "cell_type": "code",
      "source": [
        "\n",
        "def recursive_binary(fst, target):\n",
        "    if len(fst)==0:\n",
        "      return  False\n",
        "\n",
        "    else:\n",
        "        mid=(len(fst)//2)\n",
        "        if mid==target:\n",
        "          return True\n",
        "        else:\n",
        "             if fst[mid]<target:\n",
        "                 return recursive_binary(fst[mid+1:],target)\n",
        "             else:\n",
        "              return recursive_binary(fst[:mid],target)\n",
        "                 \n",
        "def very(result):\n",
        "    print('target found:',result)\n",
        "    \n",
        "numbers=[1,2,3,4,5,6,7,8]\n",
        "result=recursive_binary(numbers,12)\n",
        "very(result)  \n",
        "        "
      ],
      "metadata": {
        "colab": {
          "base_uri": "https://localhost:8080/"
        },
        "outputId": "45625284-c168-4d97-dc48-cec07ec9a7d7",
        "id": "Bm4orw4vsUoY"
      },
      "execution_count": 7,
      "outputs": [
        {
          "output_type": "stream",
          "name": "stdout",
          "text": [
            "target found: False\n"
          ]
        }
      ]
    },
    {
      "cell_type": "code",
      "source": [
        "import re\n",
        "\n",
        "\n",
        "\n"
      ],
      "metadata": {
        "id": "b4I4Y0BVuKGR"
      },
      "execution_count": null,
      "outputs": []
    }
  ]
}